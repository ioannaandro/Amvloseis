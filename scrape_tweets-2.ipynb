{
  "cells": [
    {
      "cell_type": "markdown",
      "id": "a6b91270",
      "metadata": {
        "id": "a6b91270"
      },
      "source": [
        "# Scrape Tweets\n",
        "Στην παρούσα εργασία θα προσπαθήσουμε να κάνουμε scrapping σε ορισμένα data, τα οποία προέρχονται από το twitter κι έχουν το hashtag αμβλώσεις. "
      ]
    },
    {
      "cell_type": "code",
      "execution_count": null,
      "id": "ff92cebc",
      "metadata": {
        "id": "ff92cebc",
        "colab": {
          "base_uri": "https://localhost:8080/"
        },
        "outputId": "82d20746-ec2a-434e-9787-7a99fee16a91"
      },
      "outputs": [
        {
          "output_type": "stream",
          "name": "stdout",
          "text": [
            "Looking in indexes: https://pypi.org/simple, https://us-python.pkg.dev/colab-wheels/public/simple/\n",
            "Requirement already satisfied: Tweepy in /usr/local/lib/python3.7/dist-packages (3.10.0)\n",
            "Requirement already satisfied: requests-oauthlib>=0.7.0 in /usr/local/lib/python3.7/dist-packages (from Tweepy) (1.3.1)\n",
            "Requirement already satisfied: six>=1.10.0 in /usr/local/lib/python3.7/dist-packages (from Tweepy) (1.15.0)\n",
            "Requirement already satisfied: requests[socks]>=2.11.1 in /usr/local/lib/python3.7/dist-packages (from Tweepy) (2.23.0)\n",
            "Requirement already satisfied: oauthlib>=3.0.0 in /usr/local/lib/python3.7/dist-packages (from requests-oauthlib>=0.7.0->Tweepy) (3.2.0)\n",
            "Requirement already satisfied: certifi>=2017.4.17 in /usr/local/lib/python3.7/dist-packages (from requests[socks]>=2.11.1->Tweepy) (2022.6.15)\n",
            "Requirement already satisfied: urllib3!=1.25.0,!=1.25.1,<1.26,>=1.21.1 in /usr/local/lib/python3.7/dist-packages (from requests[socks]>=2.11.1->Tweepy) (1.24.3)\n",
            "Requirement already satisfied: chardet<4,>=3.0.2 in /usr/local/lib/python3.7/dist-packages (from requests[socks]>=2.11.1->Tweepy) (3.0.4)\n",
            "Requirement already satisfied: idna<3,>=2.5 in /usr/local/lib/python3.7/dist-packages (from requests[socks]>=2.11.1->Tweepy) (2.10)\n",
            "Requirement already satisfied: PySocks!=1.5.7,>=1.5.6 in /usr/local/lib/python3.7/dist-packages (from requests[socks]>=2.11.1->Tweepy) (1.7.1)\n"
          ]
        }
      ],
      "source": [
        "!pip install Tweepy"
      ]
    },
    {
      "cell_type": "code",
      "execution_count": null,
      "id": "6e9f9a49",
      "metadata": {
        "id": "6e9f9a49"
      },
      "outputs": [],
      "source": [
        "import pandas as pd\n",
        "import tweepy\n",
        "from datetime import date"
      ]
    },
    {
      "cell_type": "code",
      "execution_count": null,
      "id": "3fc11328",
      "metadata": {
        "id": "3fc11328",
        "outputId": "d0743baf-bef1-412e-a624-55f40062585d",
        "colab": {
          "base_uri": "https://localhost:8080/"
        }
      },
      "outputs": [
        {
          "output_type": "stream",
          "name": "stdout",
          "text": [
            "Data Scrapped on: 03-07-22\n"
          ]
        }
      ],
      "source": [
        "today=date.today()\n",
        "today=today.strftime('%d-%m-%y')\n",
        "print('Data Scrapped on: {}'.format(today))"
      ]
    },
    {
      "cell_type": "code",
      "execution_count": null,
      "id": "0fab96dc",
      "metadata": {
        "id": "0fab96dc"
      },
      "outputs": [],
      "source": [
        "# Python script to extract tweets of  a particular Hashtag\n",
        "\n",
        "def printtweetdata(n, ith_tweet):\n",
        "    print('\\n')\n",
        "    print(\"Tweet {n}\".format(n))\n",
        "    print(\"Username: {}\".format(ith_tweet[0]))\n",
        "    print(\"Description: {}\".format(ith_tweet[1]))\n",
        "    print(\"Location: {}\".format(ith_tweet[2]))\n",
        "    print(\"Following Count: {}\".format(ith_tweet[3]))\n",
        "    print(\"Follower Count: {}\".format(ith_tweet[4]))\n",
        "    print(\"Total Tweets: {}\".format(ith_tweet[5]))\n",
        "    print(\"Retweet Count: {}\".format(ith_tweet[6]))\n",
        "    print(\"Tweet Text: {}\".format(ith_tweet[7]))\n",
        "    print(\"Hashtags Used: {}\".format(ith_tweet[8]))"
      ]
    },
    {
      "cell_type": "code",
      "execution_count": null,
      "id": "4ef4171b",
      "metadata": {
        "id": "4ef4171b"
      },
      "outputs": [],
      "source": [
        "def scrape(words, date_since, numtweets=800):\n",
        "    \n",
        "    db=pd.DataFrame(columns=['username',\n",
        "                                   'description',\n",
        "                                   'location',\n",
        "                                   'following',\n",
        "                                   'followers',\n",
        "                                   'totaltweets',\n",
        "                                   'retweetcount',\n",
        "                                   'text',\n",
        "                                   'hashtags',\n",
        "                                   'date'])\n",
        "    \n",
        "    '''\n",
        "    We are going to use .Cursor() to search desired tweets\n",
        "    \n",
        "    '''\n",
        "    tweets=tweepy.Cursor(api.search, words, lang='el',\n",
        "                        since_id=date_since, tweet_mode='extended').items(numtweets)\n",
        "    \n",
        "    \n",
        "    list_tweets=[tweet for tweet in tweets]\n",
        "    \n",
        "    i=1\n",
        "    \n",
        "    for tweet in list_tweets:\n",
        "        username=tweet.user.screen_name\n",
        "        description=tweet.user.description\n",
        "        location=tweet.user.location\n",
        "        following = tweet.user.friends_count\n",
        "        followers = tweet.user.followers_count\n",
        "        totaltweets = tweet.user.statuses_count\n",
        "        retweetcount = tweet.retweet_count\n",
        "        hashtags = tweet.entities['hashtags']\n",
        "        date=tweet.created_at\n",
        "        \n",
        "        try:\n",
        "            text=tweet.retweeted_status.full_text\n",
        "        except AttributeError:\n",
        "            text=tweet.full_text\n",
        "        hashtext=list()\n",
        "        for j in range(0, len(hashtags)):\n",
        "            hashtext.append(hashtags[j]['text'])\n",
        "        \n",
        "        ith_tweet=[username, description, location, following, followers, totaltweets,\n",
        "              retweetcount, text, hashtext, date]\n",
        "    \n",
        "        db.loc[len(db)]=ith_tweet\n",
        "    \n",
        "        i=i+1\n",
        "        \n",
        "    filename=\"scrapped_tweets.csv\"\n",
        "    \n",
        "    db.to_csv(filename)"
      ]
    },
    {
      "cell_type": "code",
      "execution_count": null,
      "id": "b45ab885",
      "metadata": {
        "id": "b45ab885",
        "outputId": "e63b3545-7c32-42df-c726-ddf1fd24c530",
        "colab": {
          "base_uri": "https://localhost:8080/"
        }
      },
      "outputs": [
        {
          "output_type": "stream",
          "name": "stdout",
          "text": [
            "Enter Twitter HashTag to search for\n",
            "αμβλωσεις\n",
            "Enter Date since The Tweets are required in yyyy-mm--dd\n",
            "2022-06-22\n",
            "Scraping has completed!\n"
          ]
        }
      ],
      "source": [
        "if __name__ == '__main__':\n",
        " \n",
        "        # Enter your own credentials obtained\n",
        "        # from your developer account\n",
        "        consumer_key = \"Uv3Ccd0oSCf9LgawJx12EAqYl\"\n",
        "        consumer_secret = \"NdsEcNJvTIhBVD8ApxthiidqxuY8MdKzmzPyb1tLdWCSDvLhW4\"\n",
        "        access_key = \"469275739-tpD9kkY4CCl2r8IZ2CimxNuF9DiEGtdb0fKwWLBK\"\n",
        "        access_secret = \"3Fx1ECS8mv4feMg6vfHsnFTGE5ExV845QHLPIgHuZOKF4\"\n",
        " \n",
        " \n",
        "        auth = tweepy.OAuthHandler(consumer_key, consumer_secret)\n",
        "        auth.set_access_token(access_key, access_secret)\n",
        "        api = tweepy.API(auth)\n",
        " \n",
        "        # Enter Hashtag and initial date\n",
        "        print(\"Enter Twitter HashTag to search for\")\n",
        "        words = input()\n",
        "        print(\"Enter Date since The Tweets are required in yyyy-mm--dd\")\n",
        "        date_since = input()\n",
        " \n",
        "        # number of tweets you want to extract in one run\n",
        "        numtweets = 1500\n",
        "        scrape(words, date_since, numtweets)\n",
        "        print('Scraping has completed!')"
      ]
    },
    {
      "cell_type": "code",
      "execution_count": null,
      "id": "470a7034",
      "metadata": {
        "id": "470a7034"
      },
      "outputs": [],
      "source": [
        "data=pd.read_csv('scrapped_tweets.csv')"
      ]
    },
    {
      "cell_type": "code",
      "execution_count": null,
      "id": "1e222698",
      "metadata": {
        "id": "1e222698",
        "outputId": "26e52d6f-c1d2-4fc9-be46-43135afa5b14",
        "colab": {
          "base_uri": "https://localhost:8080/",
          "height": 854
        }
      },
      "outputs": [
        {
          "output_type": "execute_result",
          "data": {
            "text/plain": [
              "      Unnamed: 0         username  \\\n",
              "0              0     scarlet_rini   \n",
              "1              1  antigone_______   \n",
              "2              2  astarrystraydog   \n",
              "3              3        ToulaTour   \n",
              "4              4  T_GynaikwnPasok   \n",
              "...          ...              ...   \n",
              "1495        1495    P_Aristotelis   \n",
              "1496        1496        filali8is   \n",
              "1497        1497        AlastorGR   \n",
              "1498        1498       protagongr   \n",
              "1499        1499      presshub_gr   \n",
              "\n",
              "                                            description  \\\n",
              "0     Nurse💉🩺/26/♎/ marvel fangirl/🔥🍊/sheldon cooper...   \n",
              "1                                      angel (retired).   \n",
              "2                     i like strawberry jam and elves🍄🌿   \n",
              "3                                                   NaN   \n",
              "4     Πανελλήνιο Σοσιαλιστικό Κίνημα (ΠΑΣΟΚ) -Τομέας...   \n",
              "...                                                 ...   \n",
              "1495                                                NaN   \n",
              "1496                                                NaN   \n",
              "1497  🇬🇷 Ο καιόμενος φοίνικας, η σημαία που ύψωσε ο ...   \n",
              "1498                                                NaN   \n",
              "1499  Επιλογή και αξιολόγηση ειδήσεων με τεχνητή νοη...   \n",
              "\n",
              "                      location  following  followers  totaltweets  \\\n",
              "0          athens,greece             2826       1749        93826   \n",
              "1                          NaN        103        275         7325   \n",
              "2              she/her, bi🏳️‍🌈         70         28           61   \n",
              "3                        Ελλάς        685       7190      1008711   \n",
              "4                      Greece.       1896       2399        58215   \n",
              "...                        ...        ...        ...          ...   \n",
              "1495                       NaN       1230       1061        73405   \n",
              "1496                       NaN        117        191        14632   \n",
              "1497  Γράμμος, το μαγικό βουνό        634        323         1124   \n",
              "1498                       NaN        321     229900       265543   \n",
              "1499                     Ελλάς      14623      20411       803391   \n",
              "\n",
              "      retweetcount                                               text  \\\n",
              "0                2  Κάθε άτομο με μήτρα πρέπει να έχει δικαίωμα στ...   \n",
              "1                2  Κάθε άτομο με μήτρα πρέπει να έχει δικαίωμα στ...   \n",
              "2                2  Κάθε άτομο με μήτρα πρέπει να έχει δικαίωμα στ...   \n",
              "3                2  Όταν η Μαρία Κυπριωτάκη περνούσε τον νόμο για ...   \n",
              "4                6  Επειδή τίποτε δεν είναι αυτονόητο &amp;  δεν έ...   \n",
              "...            ...                                                ...   \n",
              "1495           543  Το Ανώτατο Δικαστήριο των ΗΠΑ αποτελείται από ...   \n",
              "1496            36  Μπογδάνος: «Πρέπει να κάνουμε pushbacks και να...   \n",
              "1497             0  Τα 7 θανάσιμα δικαιώματα του νεοφιλελέ: 1. Αμβ...   \n",
              "1498             0  🔴⭕️Δικαστήριο του #Τέξας μπλόκαρε την απαγόρευ...   \n",
              "1499             0  [Κλικ και διαβάστε στο protagon]Η  #Αμερική στ...   \n",
              "\n",
              "                                  hashtags                 date  \n",
              "0                                       []  2022-07-03 13:42:00  \n",
              "1                                       []  2022-07-03 13:37:38  \n",
              "2                                       []  2022-07-03 13:35:12  \n",
              "3                                       []  2022-07-03 13:26:31  \n",
              "4                                       []  2022-07-03 13:24:00  \n",
              "...                                    ...                  ...  \n",
              "1495                                    []  2022-06-29 13:27:19  \n",
              "1496                                    []  2022-06-29 13:26:04  \n",
              "1497                                    []  2022-06-29 13:25:47  \n",
              "1498  ['Τέξας', 'αμβλωσεις', 'protagongr']  2022-06-29 13:19:59  \n",
              "1499              ['Αμερική', 'Άμβλωσεις']  2022-06-29 13:15:58  \n",
              "\n",
              "[1500 rows x 11 columns]"
            ],
            "text/html": [
              "\n",
              "  <div id=\"df-a4df4df1-c278-4311-b327-f9160bec87e1\">\n",
              "    <div class=\"colab-df-container\">\n",
              "      <div>\n",
              "<style scoped>\n",
              "    .dataframe tbody tr th:only-of-type {\n",
              "        vertical-align: middle;\n",
              "    }\n",
              "\n",
              "    .dataframe tbody tr th {\n",
              "        vertical-align: top;\n",
              "    }\n",
              "\n",
              "    .dataframe thead th {\n",
              "        text-align: right;\n",
              "    }\n",
              "</style>\n",
              "<table border=\"1\" class=\"dataframe\">\n",
              "  <thead>\n",
              "    <tr style=\"text-align: right;\">\n",
              "      <th></th>\n",
              "      <th>Unnamed: 0</th>\n",
              "      <th>username</th>\n",
              "      <th>description</th>\n",
              "      <th>location</th>\n",
              "      <th>following</th>\n",
              "      <th>followers</th>\n",
              "      <th>totaltweets</th>\n",
              "      <th>retweetcount</th>\n",
              "      <th>text</th>\n",
              "      <th>hashtags</th>\n",
              "      <th>date</th>\n",
              "    </tr>\n",
              "  </thead>\n",
              "  <tbody>\n",
              "    <tr>\n",
              "      <th>0</th>\n",
              "      <td>0</td>\n",
              "      <td>scarlet_rini</td>\n",
              "      <td>Nurse💉🩺/26/♎/ marvel fangirl/🔥🍊/sheldon cooper...</td>\n",
              "      <td>athens,greece</td>\n",
              "      <td>2826</td>\n",
              "      <td>1749</td>\n",
              "      <td>93826</td>\n",
              "      <td>2</td>\n",
              "      <td>Κάθε άτομο με μήτρα πρέπει να έχει δικαίωμα στ...</td>\n",
              "      <td>[]</td>\n",
              "      <td>2022-07-03 13:42:00</td>\n",
              "    </tr>\n",
              "    <tr>\n",
              "      <th>1</th>\n",
              "      <td>1</td>\n",
              "      <td>antigone_______</td>\n",
              "      <td>angel (retired).</td>\n",
              "      <td>NaN</td>\n",
              "      <td>103</td>\n",
              "      <td>275</td>\n",
              "      <td>7325</td>\n",
              "      <td>2</td>\n",
              "      <td>Κάθε άτομο με μήτρα πρέπει να έχει δικαίωμα στ...</td>\n",
              "      <td>[]</td>\n",
              "      <td>2022-07-03 13:37:38</td>\n",
              "    </tr>\n",
              "    <tr>\n",
              "      <th>2</th>\n",
              "      <td>2</td>\n",
              "      <td>astarrystraydog</td>\n",
              "      <td>i like strawberry jam and elves🍄🌿</td>\n",
              "      <td>she/her, bi🏳️‍🌈</td>\n",
              "      <td>70</td>\n",
              "      <td>28</td>\n",
              "      <td>61</td>\n",
              "      <td>2</td>\n",
              "      <td>Κάθε άτομο με μήτρα πρέπει να έχει δικαίωμα στ...</td>\n",
              "      <td>[]</td>\n",
              "      <td>2022-07-03 13:35:12</td>\n",
              "    </tr>\n",
              "    <tr>\n",
              "      <th>3</th>\n",
              "      <td>3</td>\n",
              "      <td>ToulaTour</td>\n",
              "      <td>NaN</td>\n",
              "      <td>Ελλάς</td>\n",
              "      <td>685</td>\n",
              "      <td>7190</td>\n",
              "      <td>1008711</td>\n",
              "      <td>2</td>\n",
              "      <td>Όταν η Μαρία Κυπριωτάκη περνούσε τον νόμο για ...</td>\n",
              "      <td>[]</td>\n",
              "      <td>2022-07-03 13:26:31</td>\n",
              "    </tr>\n",
              "    <tr>\n",
              "      <th>4</th>\n",
              "      <td>4</td>\n",
              "      <td>T_GynaikwnPasok</td>\n",
              "      <td>Πανελλήνιο Σοσιαλιστικό Κίνημα (ΠΑΣΟΚ) -Τομέας...</td>\n",
              "      <td>Greece.</td>\n",
              "      <td>1896</td>\n",
              "      <td>2399</td>\n",
              "      <td>58215</td>\n",
              "      <td>6</td>\n",
              "      <td>Επειδή τίποτε δεν είναι αυτονόητο &amp;amp;  δεν έ...</td>\n",
              "      <td>[]</td>\n",
              "      <td>2022-07-03 13:24:00</td>\n",
              "    </tr>\n",
              "    <tr>\n",
              "      <th>...</th>\n",
              "      <td>...</td>\n",
              "      <td>...</td>\n",
              "      <td>...</td>\n",
              "      <td>...</td>\n",
              "      <td>...</td>\n",
              "      <td>...</td>\n",
              "      <td>...</td>\n",
              "      <td>...</td>\n",
              "      <td>...</td>\n",
              "      <td>...</td>\n",
              "      <td>...</td>\n",
              "    </tr>\n",
              "    <tr>\n",
              "      <th>1495</th>\n",
              "      <td>1495</td>\n",
              "      <td>P_Aristotelis</td>\n",
              "      <td>NaN</td>\n",
              "      <td>NaN</td>\n",
              "      <td>1230</td>\n",
              "      <td>1061</td>\n",
              "      <td>73405</td>\n",
              "      <td>543</td>\n",
              "      <td>Το Ανώτατο Δικαστήριο των ΗΠΑ αποτελείται από ...</td>\n",
              "      <td>[]</td>\n",
              "      <td>2022-06-29 13:27:19</td>\n",
              "    </tr>\n",
              "    <tr>\n",
              "      <th>1496</th>\n",
              "      <td>1496</td>\n",
              "      <td>filali8is</td>\n",
              "      <td>NaN</td>\n",
              "      <td>NaN</td>\n",
              "      <td>117</td>\n",
              "      <td>191</td>\n",
              "      <td>14632</td>\n",
              "      <td>36</td>\n",
              "      <td>Μπογδάνος: «Πρέπει να κάνουμε pushbacks και να...</td>\n",
              "      <td>[]</td>\n",
              "      <td>2022-06-29 13:26:04</td>\n",
              "    </tr>\n",
              "    <tr>\n",
              "      <th>1497</th>\n",
              "      <td>1497</td>\n",
              "      <td>AlastorGR</td>\n",
              "      <td>🇬🇷 Ο καιόμενος φοίνικας, η σημαία που ύψωσε ο ...</td>\n",
              "      <td>Γράμμος, το μαγικό βουνό</td>\n",
              "      <td>634</td>\n",
              "      <td>323</td>\n",
              "      <td>1124</td>\n",
              "      <td>0</td>\n",
              "      <td>Τα 7 θανάσιμα δικαιώματα του νεοφιλελέ: 1. Αμβ...</td>\n",
              "      <td>[]</td>\n",
              "      <td>2022-06-29 13:25:47</td>\n",
              "    </tr>\n",
              "    <tr>\n",
              "      <th>1498</th>\n",
              "      <td>1498</td>\n",
              "      <td>protagongr</td>\n",
              "      <td>NaN</td>\n",
              "      <td>NaN</td>\n",
              "      <td>321</td>\n",
              "      <td>229900</td>\n",
              "      <td>265543</td>\n",
              "      <td>0</td>\n",
              "      <td>🔴⭕️Δικαστήριο του #Τέξας μπλόκαρε την απαγόρευ...</td>\n",
              "      <td>['Τέξας', 'αμβλωσεις', 'protagongr']</td>\n",
              "      <td>2022-06-29 13:19:59</td>\n",
              "    </tr>\n",
              "    <tr>\n",
              "      <th>1499</th>\n",
              "      <td>1499</td>\n",
              "      <td>presshub_gr</td>\n",
              "      <td>Επιλογή και αξιολόγηση ειδήσεων με τεχνητή νοη...</td>\n",
              "      <td>Ελλάς</td>\n",
              "      <td>14623</td>\n",
              "      <td>20411</td>\n",
              "      <td>803391</td>\n",
              "      <td>0</td>\n",
              "      <td>[Κλικ και διαβάστε στο protagon]Η  #Αμερική στ...</td>\n",
              "      <td>['Αμερική', 'Άμβλωσεις']</td>\n",
              "      <td>2022-06-29 13:15:58</td>\n",
              "    </tr>\n",
              "  </tbody>\n",
              "</table>\n",
              "<p>1500 rows × 11 columns</p>\n",
              "</div>\n",
              "      <button class=\"colab-df-convert\" onclick=\"convertToInteractive('df-a4df4df1-c278-4311-b327-f9160bec87e1')\"\n",
              "              title=\"Convert this dataframe to an interactive table.\"\n",
              "              style=\"display:none;\">\n",
              "        \n",
              "  <svg xmlns=\"http://www.w3.org/2000/svg\" height=\"24px\"viewBox=\"0 0 24 24\"\n",
              "       width=\"24px\">\n",
              "    <path d=\"M0 0h24v24H0V0z\" fill=\"none\"/>\n",
              "    <path d=\"M18.56 5.44l.94 2.06.94-2.06 2.06-.94-2.06-.94-.94-2.06-.94 2.06-2.06.94zm-11 1L8.5 8.5l.94-2.06 2.06-.94-2.06-.94L8.5 2.5l-.94 2.06-2.06.94zm10 10l.94 2.06.94-2.06 2.06-.94-2.06-.94-.94-2.06-.94 2.06-2.06.94z\"/><path d=\"M17.41 7.96l-1.37-1.37c-.4-.4-.92-.59-1.43-.59-.52 0-1.04.2-1.43.59L10.3 9.45l-7.72 7.72c-.78.78-.78 2.05 0 2.83L4 21.41c.39.39.9.59 1.41.59.51 0 1.02-.2 1.41-.59l7.78-7.78 2.81-2.81c.8-.78.8-2.07 0-2.86zM5.41 20L4 18.59l7.72-7.72 1.47 1.35L5.41 20z\"/>\n",
              "  </svg>\n",
              "      </button>\n",
              "      \n",
              "  <style>\n",
              "    .colab-df-container {\n",
              "      display:flex;\n",
              "      flex-wrap:wrap;\n",
              "      gap: 12px;\n",
              "    }\n",
              "\n",
              "    .colab-df-convert {\n",
              "      background-color: #E8F0FE;\n",
              "      border: none;\n",
              "      border-radius: 50%;\n",
              "      cursor: pointer;\n",
              "      display: none;\n",
              "      fill: #1967D2;\n",
              "      height: 32px;\n",
              "      padding: 0 0 0 0;\n",
              "      width: 32px;\n",
              "    }\n",
              "\n",
              "    .colab-df-convert:hover {\n",
              "      background-color: #E2EBFA;\n",
              "      box-shadow: 0px 1px 2px rgba(60, 64, 67, 0.3), 0px 1px 3px 1px rgba(60, 64, 67, 0.15);\n",
              "      fill: #174EA6;\n",
              "    }\n",
              "\n",
              "    [theme=dark] .colab-df-convert {\n",
              "      background-color: #3B4455;\n",
              "      fill: #D2E3FC;\n",
              "    }\n",
              "\n",
              "    [theme=dark] .colab-df-convert:hover {\n",
              "      background-color: #434B5C;\n",
              "      box-shadow: 0px 1px 3px 1px rgba(0, 0, 0, 0.15);\n",
              "      filter: drop-shadow(0px 1px 2px rgba(0, 0, 0, 0.3));\n",
              "      fill: #FFFFFF;\n",
              "    }\n",
              "  </style>\n",
              "\n",
              "      <script>\n",
              "        const buttonEl =\n",
              "          document.querySelector('#df-a4df4df1-c278-4311-b327-f9160bec87e1 button.colab-df-convert');\n",
              "        buttonEl.style.display =\n",
              "          google.colab.kernel.accessAllowed ? 'block' : 'none';\n",
              "\n",
              "        async function convertToInteractive(key) {\n",
              "          const element = document.querySelector('#df-a4df4df1-c278-4311-b327-f9160bec87e1');\n",
              "          const dataTable =\n",
              "            await google.colab.kernel.invokeFunction('convertToInteractive',\n",
              "                                                     [key], {});\n",
              "          if (!dataTable) return;\n",
              "\n",
              "          const docLinkHtml = 'Like what you see? Visit the ' +\n",
              "            '<a target=\"_blank\" href=https://colab.research.google.com/notebooks/data_table.ipynb>data table notebook</a>'\n",
              "            + ' to learn more about interactive tables.';\n",
              "          element.innerHTML = '';\n",
              "          dataTable['output_type'] = 'display_data';\n",
              "          await google.colab.output.renderOutput(dataTable, element);\n",
              "          const docLink = document.createElement('div');\n",
              "          docLink.innerHTML = docLinkHtml;\n",
              "          element.appendChild(docLink);\n",
              "        }\n",
              "      </script>\n",
              "    </div>\n",
              "  </div>\n",
              "  "
            ]
          },
          "metadata": {},
          "execution_count": 10
        }
      ],
      "source": [
        "data"
      ]
    },
    {
      "cell_type": "code",
      "source": [
        "data['date']"
      ],
      "metadata": {
        "colab": {
          "base_uri": "https://localhost:8080/"
        },
        "id": "4NwdmZZ-MKa3",
        "outputId": "0a079e1c-8acd-45ca-d1dd-eaf49d3f3ba4"
      },
      "id": "4NwdmZZ-MKa3",
      "execution_count": null,
      "outputs": [
        {
          "output_type": "execute_result",
          "data": {
            "text/plain": [
              "0       2022-07-03 13:42:00\n",
              "1       2022-07-03 13:37:38\n",
              "2       2022-07-03 13:35:12\n",
              "3       2022-07-03 13:26:31\n",
              "4       2022-07-03 13:24:00\n",
              "               ...         \n",
              "1495    2022-06-29 13:27:19\n",
              "1496    2022-06-29 13:26:04\n",
              "1497    2022-06-29 13:25:47\n",
              "1498    2022-06-29 13:19:59\n",
              "1499    2022-06-29 13:15:58\n",
              "Name: date, Length: 1500, dtype: object"
            ]
          },
          "metadata": {},
          "execution_count": 12
        }
      ]
    },
    {
      "cell_type": "code",
      "source": [
        "from google.colab import drive\n",
        "drive.mount('/content/drive')"
      ],
      "metadata": {
        "colab": {
          "base_uri": "https://localhost:8080/"
        },
        "id": "gXUB0BX2MZPm",
        "outputId": "1b9c18a0-9bc9-41db-ce5f-0a2c7bc58275"
      },
      "id": "gXUB0BX2MZPm",
      "execution_count": null,
      "outputs": [
        {
          "output_type": "stream",
          "name": "stdout",
          "text": [
            "Mounted at /content/drive\n"
          ]
        }
      ]
    },
    {
      "cell_type": "code",
      "source": [
        "#data.to_csv('/content/drive/MyDrive/final/ioanna/twitter_data.csv')"
      ],
      "metadata": {
        "id": "TNBjLczQMmRf"
      },
      "id": "TNBjLczQMmRf",
      "execution_count": null,
      "outputs": []
    },
    {
      "cell_type": "code",
      "source": [
        ""
      ],
      "metadata": {
        "id": "UrJTepz6M_Du"
      },
      "id": "UrJTepz6M_Du",
      "execution_count": null,
      "outputs": []
    }
  ],
  "metadata": {
    "kernelspec": {
      "display_name": "Python 3 (ipykernel)",
      "language": "python",
      "name": "python3"
    },
    "language_info": {
      "codemirror_mode": {
        "name": "ipython",
        "version": 3
      },
      "file_extension": ".py",
      "mimetype": "text/x-python",
      "name": "python",
      "nbconvert_exporter": "python",
      "pygments_lexer": "ipython3",
      "version": "3.9.7"
    },
    "colab": {
      "name": "scrape_tweets.ipynb",
      "provenance": [],
      "collapsed_sections": []
    }
  },
  "nbformat": 4,
  "nbformat_minor": 5
}